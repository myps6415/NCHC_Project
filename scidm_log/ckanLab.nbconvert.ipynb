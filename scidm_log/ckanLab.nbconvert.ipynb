{
 "cells": [
  {
   "cell_type": "code",
   "execution_count": 1,
   "metadata": {},
   "outputs": [],
   "source": [
    "from ckanapi import RemoteCKAN\n",
    "url=\"https://scidm.nchc.org.tw\"\n",
    "ua = 'ckanapiexample/1.0 (+http://example.com/my/website)'\n",
    "\n",
    "ckan = RemoteCKAN(url, user_agent=ua)"
   ]
  },
  {
   "cell_type": "code",
   "execution_count": 2,
   "metadata": {},
   "outputs": [],
   "source": [
    "import csv\n",
    "with open('./scidm.id-name-mapping.csv', 'w', newline='') as csvfile:\n",
    "    writer = csv.writer(csvfile)\n",
    "    \n",
    "    orgs = ckan.action.organization_list()\n",
    "    #reLicenseOrg = [\"floss-community-auto-public\", \"aidm\", \"tutorial01\", \"nchc-clean-data\", \"nchclife\", \"nchcbio\", \"nchcmanufacturing\", \"civiliot\", \"nchcdr\", \"nchc_restricted\", \"noaa\", \"tcia_data\", \"uci_machine_learning_repository\", \"sinicaedutw\", \"aclclp_tw\", \"narl-nspo\", \"ntuh\", \"i-scipark\", \"narl-stpi\", \"most-upload\", \"most-acad-upload\", \"most-iucrp\", \"v1\", \"tmu\", \"cdc-mohw-gov-tw\", \"datamarket\", \"information-security-open-data\"]\n",
    "    for org in orgs:\n",
    "        org_data = ckan.action.organization_show(id=org, include_extras=True, include_datasets=True)\n",
    "        pkgs = org_data['packages']\n",
    "        for pkg in pkgs:\n",
    "            #pkgurl = \"https://scidm.nchc.org.tw/dataset/{0}\".format(pkg['id'])\n",
    "            writer.writerow([org, org_data['display_name'], pkg['title'], pkg['id']])\n",
    "            #print(\"{0}, {1}, {2}, {3}, https://scidm.nchc.org.tw/dataset/{4} \".format(definecate[org], pkg_data['display_name'], pkg['title'], pkg['license_id'], pkg['id']))\n",
    "            #print(definecate[org],\",\",org,\",\",pkg['name'],\",\",pkg['license_id'],\"url: https://scidm.nchc.org.tw/dataset/{0}\".format(pkg['name']))\n"
   ]
  }
 ],
 "metadata": {
  "kernelspec": {
   "display_name": "Python 3",
   "language": "python",
   "name": "python3"
  },
  "language_info": {
   "codemirror_mode": {
    "name": "ipython",
    "version": 3
   },
   "file_extension": ".py",
   "mimetype": "text/x-python",
   "name": "python",
   "nbconvert_exporter": "python",
   "pygments_lexer": "ipython3",
   "version": "3.5.2"
  }
 },
 "nbformat": 4,
 "nbformat_minor": 2
}
