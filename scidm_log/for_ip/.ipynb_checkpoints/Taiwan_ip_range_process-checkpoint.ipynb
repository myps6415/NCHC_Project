{
 "cells": [
  {
   "cell_type": "code",
   "execution_count": 1,
   "metadata": {},
   "outputs": [
    {
     "data": {
      "text/html": [
       "<div>\n",
       "<style scoped>\n",
       "    .dataframe tbody tr th:only-of-type {\n",
       "        vertical-align: middle;\n",
       "    }\n",
       "\n",
       "    .dataframe tbody tr th {\n",
       "        vertical-align: top;\n",
       "    }\n",
       "\n",
       "    .dataframe thead th {\n",
       "        text-align: right;\n",
       "    }\n",
       "</style>\n",
       "<table border=\"1\" class=\"dataframe\">\n",
       "  <thead>\n",
       "    <tr style=\"text-align: right;\">\n",
       "      <th></th>\n",
       "      <th>單位名稱</th>\n",
       "      <th>ID</th>\n",
       "      <th>核發IP範圍</th>\n",
       "    </tr>\n",
       "  </thead>\n",
       "  <tbody>\n",
       "    <tr>\n",
       "      <th>0</th>\n",
       "      <td>中華電信股份有限公司</td>\n",
       "      <td>HINET-NET</td>\n",
       "      <td>202.39.128.0 - 202.39.255.255</td>\n",
       "    </tr>\n",
       "    <tr>\n",
       "      <th>1</th>\n",
       "      <td>衛生福利部</td>\n",
       "      <td>HEALTHNET-NET</td>\n",
       "      <td>203.65.128.0 - 203.65.159.255</td>\n",
       "    </tr>\n",
       "    <tr>\n",
       "      <th>2</th>\n",
       "      <td>衛生福利部</td>\n",
       "      <td>HEALTHNET-NET</td>\n",
       "      <td>203.65.0.0 - 203.65.127.255</td>\n",
       "    </tr>\n",
       "    <tr>\n",
       "      <th>3</th>\n",
       "      <td>中華電信股份有限公司</td>\n",
       "      <td>HINET-NET</td>\n",
       "      <td>203.69.0.0 - 203.69.255.255</td>\n",
       "    </tr>\n",
       "    <tr>\n",
       "      <th>4</th>\n",
       "      <td>教育部</td>\n",
       "      <td>TANET-NET</td>\n",
       "      <td>203.68.0.0 - 203.68.255.255</td>\n",
       "    </tr>\n",
       "  </tbody>\n",
       "</table>\n",
       "</div>"
      ],
      "text/plain": [
       "         單位名稱             ID                         核發IP範圍\n",
       "0  中華電信股份有限公司      HINET-NET  202.39.128.0 - 202.39.255.255\n",
       "1       衛生福利部  HEALTHNET-NET  203.65.128.0 - 203.65.159.255\n",
       "2       衛生福利部  HEALTHNET-NET    203.65.0.0 - 203.65.127.255\n",
       "3  中華電信股份有限公司      HINET-NET    203.69.0.0 - 203.69.255.255\n",
       "4         教育部      TANET-NET    203.68.0.0 - 203.68.255.255"
      ]
     },
     "execution_count": 1,
     "metadata": {},
     "output_type": "execute_result"
    }
   ],
   "source": [
    "from netaddr import *\n",
    "import pandas as pd\n",
    "import sqlite3\n",
    "\n",
    "conn = sqlite3.connect('/Users/fish/Downloads/ipDB.db')\n",
    "c = conn.cursor()\n",
    "\n",
    "ip_table = pd.read_sql('select 單位名稱, ID, 核發IP範圍 from ipTable', conn)\n",
    "ip_table.head()"
   ]
  },
  {
   "cell_type": "code",
   "execution_count": 2,
   "metadata": {
    "scrolled": true
   },
   "outputs": [],
   "source": [
    "company = []\n",
    "ip_address = []\n",
    "\n",
    "for com, IP in zip(ip_table['單位名稱'], ip_table['核發IP範圍']):\n",
    "    ip_list = list(iter_iprange(IP.split(' - ')[0], IP.split(' - ')[1]))\n",
    "    for com_ip in ip_list:\n",
    "        company.append(com)\n",
    "        ip_address.append(str(com_ip))"
   ]
  },
  {
   "cell_type": "code",
   "execution_count": 12,
   "metadata": {},
   "outputs": [
    {
     "data": {
      "text/plain": [
       "33849344"
      ]
     },
     "execution_count": 12,
     "metadata": {},
     "output_type": "execute_result"
    }
   ],
   "source": [
    "len(company)"
   ]
  },
  {
   "cell_type": "code",
   "execution_count": 13,
   "metadata": {},
   "outputs": [
    {
     "data": {
      "text/plain": [
       "33849344"
      ]
     },
     "execution_count": 13,
     "metadata": {},
     "output_type": "execute_result"
    }
   ],
   "source": [
    "len(ip_address)"
   ]
  },
  {
   "cell_type": "code",
   "execution_count": 20,
   "metadata": {},
   "outputs": [],
   "source": [
    "taiwan_company_ip = pd.DataFrame(zip(company, ip_address), columns=['company', 'ip'])\n",
    "taiwan_company_ip.to_sql('taiwan_company_ip', conn, if_exists='replace', index = False)"
   ]
  },
  {
   "cell_type": "code",
   "execution_count": null,
   "metadata": {},
   "outputs": [],
   "source": []
  }
 ],
 "metadata": {
  "kernelspec": {
   "display_name": "Python [conda env:ip_process] *",
   "language": "python",
   "name": "conda-env-ip_process-py"
  },
  "language_info": {
   "codemirror_mode": {
    "name": "ipython",
    "version": 3
   },
   "file_extension": ".py",
   "mimetype": "text/x-python",
   "name": "python",
   "nbconvert_exporter": "python",
   "pygments_lexer": "ipython3",
   "version": "3.7.3"
  }
 },
 "nbformat": 4,
 "nbformat_minor": 2
}
