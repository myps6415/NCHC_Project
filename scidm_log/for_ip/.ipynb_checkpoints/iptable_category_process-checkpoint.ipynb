{
 "cells": [
  {
   "cell_type": "code",
   "execution_count": 11,
   "metadata": {},
   "outputs": [
    {
     "data": {
      "text/html": [
       "<div>\n",
       "<style scoped>\n",
       "    .dataframe tbody tr th:only-of-type {\n",
       "        vertical-align: middle;\n",
       "    }\n",
       "\n",
       "    .dataframe tbody tr th {\n",
       "        vertical-align: top;\n",
       "    }\n",
       "\n",
       "    .dataframe thead th {\n",
       "        text-align: right;\n",
       "    }\n",
       "</style>\n",
       "<table border=\"1\" class=\"dataframe\">\n",
       "  <thead>\n",
       "    <tr style=\"text-align: right;\">\n",
       "      <th></th>\n",
       "      <th>company</th>\n",
       "      <th>ip</th>\n",
       "      <th>location</th>\n",
       "      <th>category</th>\n",
       "    </tr>\n",
       "  </thead>\n",
       "  <tbody>\n",
       "    <tr>\n",
       "      <th>0</th>\n",
       "      <td>中華電信股份有限公司</td>\n",
       "      <td>202.39.128.0</td>\n",
       "      <td>TW</td>\n",
       "      <td>None</td>\n",
       "    </tr>\n",
       "    <tr>\n",
       "      <th>1</th>\n",
       "      <td>中華電信股份有限公司</td>\n",
       "      <td>202.39.128.1</td>\n",
       "      <td>TW</td>\n",
       "      <td>None</td>\n",
       "    </tr>\n",
       "    <tr>\n",
       "      <th>2</th>\n",
       "      <td>中華電信股份有限公司</td>\n",
       "      <td>202.39.128.2</td>\n",
       "      <td>TW</td>\n",
       "      <td>None</td>\n",
       "    </tr>\n",
       "    <tr>\n",
       "      <th>3</th>\n",
       "      <td>中華電信股份有限公司</td>\n",
       "      <td>202.39.128.3</td>\n",
       "      <td>TW</td>\n",
       "      <td>None</td>\n",
       "    </tr>\n",
       "    <tr>\n",
       "      <th>4</th>\n",
       "      <td>中華電信股份有限公司</td>\n",
       "      <td>202.39.128.4</td>\n",
       "      <td>TW</td>\n",
       "      <td>None</td>\n",
       "    </tr>\n",
       "  </tbody>\n",
       "</table>\n",
       "</div>"
      ],
      "text/plain": [
       "      company            ip location category\n",
       "0  中華電信股份有限公司  202.39.128.0       TW     None\n",
       "1  中華電信股份有限公司  202.39.128.1       TW     None\n",
       "2  中華電信股份有限公司  202.39.128.2       TW     None\n",
       "3  中華電信股份有限公司  202.39.128.3       TW     None\n",
       "4  中華電信股份有限公司  202.39.128.4       TW     None"
      ]
     },
     "execution_count": 11,
     "metadata": {},
     "output_type": "execute_result"
    }
   ],
   "source": [
    "import sqlite3\n",
    "import pandas as pd\n",
    "from netaddr import *\n",
    "\n",
    "conn = sqlite3.connect('/Users/fish/Downloads/ipDB.db')\n",
    "c = conn.cursor()\n",
    "\n",
    "taiwan_com = pd.read_sql('select * from taiwan_company_ip', conn)\n",
    "taiwan_com.head()"
   ]
  },
  {
   "cell_type": "code",
   "execution_count": 2,
   "metadata": {},
   "outputs": [
    {
     "data": {
      "text/html": [
       "<div>\n",
       "<style scoped>\n",
       "    .dataframe tbody tr th:only-of-type {\n",
       "        vertical-align: middle;\n",
       "    }\n",
       "\n",
       "    .dataframe tbody tr th {\n",
       "        vertical-align: top;\n",
       "    }\n",
       "\n",
       "    .dataframe thead th {\n",
       "        text-align: right;\n",
       "    }\n",
       "</style>\n",
       "<table border=\"1\" class=\"dataframe\">\n",
       "  <thead>\n",
       "    <tr style=\"text-align: right;\">\n",
       "      <th></th>\n",
       "      <th>ID</th>\n",
       "      <th>ip</th>\n",
       "      <th>category</th>\n",
       "    </tr>\n",
       "  </thead>\n",
       "  <tbody>\n",
       "    <tr>\n",
       "      <th>0</th>\n",
       "      <td>IBM-USF-NET</td>\n",
       "      <td>211.79.208.0 - 211.79.223.255</td>\n",
       "      <td>cmp</td>\n",
       "    </tr>\n",
       "    <tr>\n",
       "      <th>1</th>\n",
       "      <td>104IT-NET</td>\n",
       "      <td>202.8.14.0 - 202.8.15.255</td>\n",
       "      <td>cmp</td>\n",
       "    </tr>\n",
       "    <tr>\n",
       "      <th>2</th>\n",
       "      <td>SDTV-NET</td>\n",
       "      <td>103.100.164.0 - 103.100.167.255</td>\n",
       "      <td>cmp</td>\n",
       "    </tr>\n",
       "    <tr>\n",
       "      <th>3</th>\n",
       "      <td>SUNHO-NET</td>\n",
       "      <td>103.130.92.0 - 103.130.95.255</td>\n",
       "      <td>cmp</td>\n",
       "    </tr>\n",
       "    <tr>\n",
       "      <th>4</th>\n",
       "      <td>3LINK-NET</td>\n",
       "      <td>103.123.252.0 - 103.123.255.255</td>\n",
       "      <td>cmp</td>\n",
       "    </tr>\n",
       "  </tbody>\n",
       "</table>\n",
       "</div>"
      ],
      "text/plain": [
       "            ID                               ip category\n",
       "0  IBM-USF-NET    211.79.208.0 - 211.79.223.255      cmp\n",
       "1    104IT-NET        202.8.14.0 - 202.8.15.255      cmp\n",
       "2     SDTV-NET  103.100.164.0 - 103.100.167.255      cmp\n",
       "3    SUNHO-NET    103.130.92.0 - 103.130.95.255      cmp\n",
       "4    3LINK-NET  103.123.252.0 - 103.123.255.255      cmp"
      ]
     },
     "execution_count": 2,
     "metadata": {},
     "output_type": "execute_result"
    }
   ],
   "source": [
    "ip_category = pd.read_sql('select * from ipTable2', conn)\n",
    "ip_category.head()"
   ]
  },
  {
   "cell_type": "code",
   "execution_count": 4,
   "metadata": {},
   "outputs": [],
   "source": [
    "category = []\n",
    "ip_address = []\n",
    "\n",
    "for cate, IP in zip(ip_category['category'], ip_category['ip']):\n",
    "    ip_list = list(iter_iprange(IP.split(' - ')[0], IP.split(' - ')[1]))\n",
    "    for com_ip in ip_list:\n",
    "        category.append(cate)\n",
    "        ip_address.append(str(com_ip))"
   ]
  },
  {
   "cell_type": "code",
   "execution_count": 8,
   "metadata": {},
   "outputs": [],
   "source": [
    "taiwan_ip_category = pd.DataFrame(zip(category, ip_address), columns=['category', 'ip'])\n",
    "taiwan_ip_category.to_sql('taiwan_ip_category', conn, if_exists='replace', index = False)"
   ]
  },
  {
   "cell_type": "code",
   "execution_count": null,
   "metadata": {},
   "outputs": [],
   "source": []
  }
 ],
 "metadata": {
  "kernelspec": {
   "display_name": "Python [conda env:ip_process]",
   "language": "python",
   "name": "conda-env-ip_process-py"
  },
  "language_info": {
   "codemirror_mode": {
    "name": "ipython",
    "version": 3
   },
   "file_extension": ".py",
   "mimetype": "text/x-python",
   "name": "python",
   "nbconvert_exporter": "python",
   "pygments_lexer": "ipython3",
   "version": "3.7.3"
  }
 },
 "nbformat": 4,
 "nbformat_minor": 2
}
