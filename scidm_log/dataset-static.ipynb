{
 "cells": [
  {
   "cell_type": "code",
   "execution_count": 2,
   "metadata": {},
   "outputs": [],
   "source": [
    "%matplotlib inline\n",
    "import matplotlib.pyplot as plt\n",
    "import numpy as np\n",
    "import pandas as pd\n",
    "\n",
    "from ckanapi import RemoteCKAN\n",
    "url=\"https://scidm.nchc.org.tw\"\n",
    "ua = 'ckanapiexample/1.0 (+http://example.com/my/website)'\n",
    "\n",
    "ckan = RemoteCKAN(url, user_agent=ua)"
   ]
  },
  {
   "cell_type": "code",
   "execution_count": 6,
   "metadata": {},
   "outputs": [],
   "source": [
    "organization_data = pd.read_csv('/log/dataset.csv', header=None, names = ['ip', 'dataset', 'download', 'date', 'size', 'requests','agent'])\n",
    "\n",
    "#organization_data.sort_values('date', inplace=True)\n",
    "#orgdata_range = organization_data[(organization_data['date'] > '2018-09-08') & (organization_data['date'] < '2019-09-22')]\n",
    "#orgdata_range"
   ]
  },
  {
   "cell_type": "code",
   "execution_count": 27,
   "metadata": {},
   "outputs": [
    {
     "data": {
      "text/plain": [
       "ip          87\n",
       "dataset     87\n",
       "download    87\n",
       "date        87\n",
       "size        87\n",
       "requests    87\n",
       "agent       87\n",
       "dtype: int64"
      ]
     },
     "execution_count": 27,
     "metadata": {},
     "output_type": "execute_result"
    }
   ],
   "source": [
    "#orgdata_range = organization_data[(organization_data['date'] > '2019-01-08') & (organization_data['date'] < '2019-09-22')]\n",
    "datasetdata = organization_data\n",
    "DID=\"9cf1b8b6-3f05-48df-b510-be71492f1f7c\"\n",
    "x=datasetdata[datasetdata['dataset'] == DID]\n",
    "x.count()"
   ]
  }
 ],
 "metadata": {
  "kernelspec": {
   "display_name": "Python 3",
   "language": "python",
   "name": "python3"
  },
  "language_info": {
   "codemirror_mode": {
    "name": "ipython",
    "version": 3
   },
   "file_extension": ".py",
   "mimetype": "text/x-python",
   "name": "python",
   "nbconvert_exporter": "python",
   "pygments_lexer": "ipython3",
   "version": "3.5.2"
  }
 },
 "nbformat": 4,
 "nbformat_minor": 2
}
