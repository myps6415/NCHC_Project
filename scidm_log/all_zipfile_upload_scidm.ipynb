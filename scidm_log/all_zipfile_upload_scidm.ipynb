{
 "cells": [
  {
   "cell_type": "code",
   "execution_count": 1,
   "metadata": {},
   "outputs": [],
   "source": [
    "import os\n",
    "import datetime\n",
    "from ckanapi import RemoteCKAN\n",
    "\n",
    "now = datetime.datetime.now()\n",
    "today = now.strftime('%Y-%m-%d')\n",
    "scidm = RemoteCKAN('https://scidm.nchc.org.tw', apikey = 'API_KEY')\n",
    "path = '~/2019/'"
   ]
  },
  {
   "cell_type": "code",
   "execution_count": 2,
   "metadata": {},
   "outputs": [
    {
     "name": "stdout",
     "output_type": "stream",
     "text": [
      "Finish 20190401_result.zip upload\n",
      "Finish 20190327_result.zip upload\n",
      "Finish 20190204_result.zip upload\n",
      "Finish 20190218_result.zip upload\n",
      "Finish 20190415_result.zip upload\n",
      "Finish 20190422_result.zip upload\n",
      "Finish 20190315_result.zip upload\n",
      "Finish 20190121_result.zip upload\n",
      "Finish 20190318_result.zip upload\n",
      "Finish 20190107_result.zip upload\n",
      "Finish 20190304_result.zip upload\n",
      "Finish 20190325_result.zip upload\n",
      "Finish 20190114_result.zip upload\n",
      "Finish 20190212_result.zip upload\n",
      "Finish 20190225_result.zip upload\n",
      "Finish 20190408_result.zip upload\n",
      "Finish 20190211_result.zip upload\n",
      "Finish 20190128_result.zip upload\n",
      "Finish 20190311_result.zip upload\n",
      "Finish 20190429_result.zip upload\n",
      "Finish 20190110_result.zip upload\n"
     ]
    }
   ],
   "source": [
    "# 注意：欲上傳的檔案需以英文命名，若有中文在檔名內會造成建立 resource 成功，但沒有檔案上傳\n",
    "for i in os.listdir(path):\n",
    "    scidm.action.resource_create(\n",
    "        package_id = 'scidm-usage-statistic',\n",
    "        description = i,\n",
    "        format = 'zip',\n",
    "        name = i,\n",
    "        last_modified = today,\n",
    "        upload = open(path+i, 'rb')\n",
    "    )\n",
    "    print('Finish {} upload'.format(i))"
   ]
  },
  {
   "cell_type": "code",
   "execution_count": null,
   "metadata": {},
   "outputs": [],
   "source": []
  }
 ],
 "metadata": {
  "kernelspec": {
   "display_name": "Python 3",
   "language": "python",
   "name": "python3"
  },
  "language_info": {
   "codemirror_mode": {
    "name": "ipython",
    "version": 3
   },
   "file_extension": ".py",
   "mimetype": "text/x-python",
   "name": "python",
   "nbconvert_exporter": "python",
   "pygments_lexer": "ipython3",
   "version": "3.6.8"
  }
 },
 "nbformat": 4,
 "nbformat_minor": 2
}
